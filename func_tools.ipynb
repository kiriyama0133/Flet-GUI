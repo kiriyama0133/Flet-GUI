{
 "cells": [
  {
   "cell_type": "code",
   "execution_count": null,
   "metadata": {},
   "outputs": [
    {
     "name": "stdout",
     "output_type": "stream",
     "text": [
      "Something is happening before the function is called.\n",
      "Hello!\n",
      "Something is happening after the function is called.\n"
     ]
    }
   ],
   "source": [
    "import functools\n",
    "def my_decorator(func):\n",
    "    def wrapper(): #闭包函数\n",
    "        print(\"Something is happening before the function is called.\")\n",
    "        func()\n",
    "        print(\"Something is happening after the function is called.\")\n",
    "    return wrapper\n",
    "@my_decorator\n",
    "def say_hello():\n",
    "    print(\"Hello!\")\n",
    "say_hello() #调用的时候，相当于调用闭包函数\n"
   ]
  },
  {
   "cell_type": "code",
   "execution_count": 14,
   "metadata": {},
   "outputs": [
    {
     "name": "stdout",
     "output_type": "stream",
     "text": [
      "11my_function\n",
      "my_function\n",
      "文档字符串1文档字符串2\n"
     ]
    }
   ],
   "source": [
    "import functools\n",
    "def my_decorator(func):\n",
    "    @functools.wraps(func)#保留被装饰函数的原始元数据（如 __name__ 和 __doc__）\n",
    "    def wrapper(*args, **kwargs):\n",
    "        # ...\n",
    "        print(\"11\"+func.__name__)\n",
    "        return func(*args, **kwargs)\n",
    "    return wrapper\n",
    "\n",
    "@my_decorator\n",
    "def my_function():\n",
    "    \"\"\"文档字符串1文档字符串2\"\"\"\n",
    "    pass\n",
    "\n",
    "my_function()\n",
    "print(my_function.__name__)  # 输出: my_function\n",
    "print(my_function.__doc__)   # 输出: 文档字符串"
   ]
  },
  {
   "cell_type": "code",
   "execution_count": null,
   "metadata": {},
   "outputs": [
    {
     "name": "stdout",
     "output_type": "stream",
     "text": [
      "装饰器激活\n",
      "Hello!\n"
     ]
    }
   ],
   "source": [
    "def decorator_with_args(arg1): #一个带参数的装饰器工厂\n",
    "    def decorator(func):\n",
    "        @functools.wraps(func) #确保 func 的元数据（如 __name__ 和 __doc__）不会被 wrapper 覆盖。\n",
    "        def wrapper(*args, **kwargs): #在 wrapper 中，根据 arg1 的值来决定是否执行特定代码\n",
    "            if arg1:\n",
    "                print(\"装饰器激活\")\n",
    "            else:\n",
    "                print(\"装饰器未激活\")\n",
    "            return func(*args, **kwargs)\n",
    "        return wrapper\n",
    "    return decorator\n",
    "\n",
    "@decorator_with_args(True)\n",
    "def say_hello():\n",
    "    print(\"Hello!\")\n",
    "say_hello()"
   ]
  },
  {
   "cell_type": "code",
   "execution_count": 15,
   "metadata": {},
   "outputs": [
    {
     "name": "stdout",
     "output_type": "stream",
     "text": [
      "Decorator one is applied\n",
      "Decorator two is applied\n",
      "Hello from my_function\n"
     ]
    }
   ],
   "source": [
    "def decorator_one(func):\n",
    "    def wrapper(*args, **kwargs):\n",
    "        print(\"Decorator one is applied\")\n",
    "        return func(*args, **kwargs)\n",
    "    return wrapper\n",
    "def decorator_two(func):\n",
    "    def wrapper(*args, **kwargs):\n",
    "        print(\"Decorator two is applied\")\n",
    "        return func(*args, **kwargs)\n",
    "    return wrapper\n",
    "@decorator_one\n",
    "@decorator_two\n",
    "def my_function():\n",
    "    print(\"Hello from my_function\")\n",
    "my_function()"
   ]
  },
  {
   "cell_type": "code",
   "execution_count": null,
   "metadata": {},
   "outputs": [
    {
     "name": "stdout",
     "output_type": "stream",
     "text": [
      "1\n",
      "2\n",
      "3\n",
      "关键字参数字典: {'v1': 10, 'v2': 20}\n",
      "v1:10\n",
      "v2:20\n",
      "--------------------\n",
      "10\n",
      "1\n",
      "2\n",
      "3\n",
      "关键字参数字典: {'k1': 10, 'k2': 20, 'k3': 20}\n",
      "k1:10\n",
      "k2:20\n",
      "k3:20\n",
      "--------------------\n",
      "10\n",
      "1\n",
      "2\n",
      "3\n",
      "关键字参数字典: {'k1': 20, 'k2': 20}\n",
      "k1:20\n",
      "k2:20\n",
      "--------------------\n"
     ]
    }
   ],
   "source": [
    "from functools import partial\n",
    "# 同样是刚刚求和的代码，不同的是加入的关键字参数\n",
    "def add(*args, **kwargs): # *args是被固定的参数,**kwargs 是可变参数，可以接受任意个参数\n",
    "    \"\"\"xsxsxsxss\"\"\"\n",
    "    # 打印位置参数\n",
    "    for n in args:\n",
    "        print(n)\n",
    "    \n",
    "\n",
    "    \n",
    "    print(\"关键字参数字典:\", kwargs)\n",
    "    # 打印关键字参数\n",
    "    for k, v in kwargs.items():\n",
    "       print('%s:%s' % (k, v))\n",
    "\n",
    "    print(\"-\"*20)\n",
    "    # 暂不做返回，只看下参数效果，理解 partial 用法\n",
    "        \n",
    "\n",
    "# 普通调用\n",
    "add(1, 2, 3, v1=10, v2=20) #1,2,3是固定参数\n",
    "\n",
    "\n",
    "# partial\n",
    "add_partial = partial(add, 10, k1=10, k2=20) # 固定参数 \n",
    "#创建了一个新的函数add_partial ，绑定了add函数的部分参数\n",
    "#10是位置参数，会被传递给*args,k1=10 k2=20是关键字参数，会被传递给**kwargs\n",
    "add_partial(1, 2, 3, k3=20) \n",
    "#k3=20 是新的参数，会被传递给**kwargs\n",
    "add_partial(1, 2, 3, k1=20)\n",
    "#k1=20 是新的参数，会被传递给**kwargs\n"
   ]
  }
 ],
 "metadata": {
  "kernelspec": {
   "display_name": "flet",
   "language": "python",
   "name": "python3"
  },
  "language_info": {
   "codemirror_mode": {
    "name": "ipython",
    "version": 3
   },
   "file_extension": ".py",
   "mimetype": "text/x-python",
   "name": "python",
   "nbconvert_exporter": "python",
   "pygments_lexer": "ipython3",
   "version": "3.11.10"
  }
 },
 "nbformat": 4,
 "nbformat_minor": 2
}
